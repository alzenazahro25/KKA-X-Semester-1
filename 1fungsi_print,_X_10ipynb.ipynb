{
  "nbformat": 4,
  "nbformat_minor": 0,
  "metadata": {
    "colab": {
      "provenance": [],
      "authorship_tag": "ABX9TyNPQY2sJrH+7JepuijxxmnF",
      "include_colab_link": true
    },
    "kernelspec": {
      "name": "python3",
      "display_name": "Python 3"
    },
    "language_info": {
      "name": "python"
    }
  },
  "cells": [
    {
      "cell_type": "markdown",
      "metadata": {
        "id": "view-in-github",
        "colab_type": "text"
      },
      "source": [
        "<a href=\"https://colab.research.google.com/github/alzenazahro25/KKA-X-Semester-1/blob/main/1fungsi_print%2C_X_10ipynb.ipynb\" target=\"_parent\"><img src=\"https://colab.research.google.com/assets/colab-badge.svg\" alt=\"Open In Colab\"/></a>"
      ]
    },
    {
      "cell_type": "code",
      "execution_count": null,
      "metadata": {
        "colab": {
          "base_uri": "https://localhost:8080/"
        },
        "id": "wU4ac4Cl0YIR",
        "outputId": "42a4b47d-c3ca-4e6f-8e2a-ccb09b096b8c"
      },
      "outputs": [
        {
          "output_type": "stream",
          "name": "stdout",
          "text": [
            "namaSaudara:davina Karamoy\n"
          ]
        }
      ],
      "source": [
        "namaSaudara = \"davina Karamoy\"\n",
        "print (\"namaSaudara:\" + namaSaudara)"
      ]
    },
    {
      "cell_type": "code",
      "source": [
        "nama_panggilan_siswa = \"jenay\"\n",
        "print(\"nama panggilan siswa tersebut adalah\", nama_panggilan_siswa) #sudah ada spasinya"
      ],
      "metadata": {
        "colab": {
          "base_uri": "https://localhost:8080/"
        },
        "id": "D97zZPC80_K8",
        "outputId": "e509065f-9850-4489-9685-014b2ebbed74"
      },
      "execution_count": null,
      "outputs": [
        {
          "output_type": "stream",
          "name": "stdout",
          "text": [
            "nama panggilan siswa tersebut adalah jenay\n"
          ]
        }
      ]
    },
    {
      "cell_type": "code",
      "source": [
        "print(f\"nama panggilan siswa tersebut adalah {nama_panggilan_siswa} loh!\")"
      ],
      "metadata": {
        "colab": {
          "base_uri": "https://localhost:8080/"
        },
        "id": "S0iCAYll1jDs",
        "outputId": "471e18b9-10c0-46a5-f9d6-93bf8950585a"
      },
      "execution_count": null,
      "outputs": [
        {
          "output_type": "stream",
          "name": "stdout",
          "text": [
            "nama panggilan siswa tersebut adalah jenay loh!\n"
          ]
        }
      ]
    },
    {
      "cell_type": "code",
      "source": [
        "print(\"Nama: Alzena Zaliyanti Zahro\")\n",
        "print(\"kelas: X.10\")\n",
        "print (\"No Absen: 02\")"
      ],
      "metadata": {
        "colab": {
          "base_uri": "https://localhost:8080/"
        },
        "id": "aTrByfma13GU",
        "outputId": "bf04d6ed-6c28-4b81-bbac-f665a4472eba"
      },
      "execution_count": null,
      "outputs": [
        {
          "output_type": "stream",
          "name": "stdout",
          "text": [
            "Nama: Alzena Zaliyanti Zahro\n",
            "kelas: X.10\n",
            "No Absen: 02\n"
          ]
        }
      ]
    },
    {
      "cell_type": "code",
      "source": [
        "print(\"Nama\\t\\t: Alzena Zaliyanti Zahro\\nKelas\\t\\t: X.10\\nNo absen\\t: 02\")"
      ],
      "metadata": {
        "colab": {
          "base_uri": "https://localhost:8080/"
        },
        "id": "gTSoForR305x",
        "outputId": "ce87ab78-8370-4afa-86f6-00cf417fc7e1"
      },
      "execution_count": null,
      "outputs": [
        {
          "output_type": "stream",
          "name": "stdout",
          "text": [
            "Nama\t\t: Alzena Zaliyanti Zahro\n",
            "Kelas\t\t: X.10\n",
            "No absen\t: 02\n"
          ]
        }
      ]
    },
    {
      "cell_type": "code",
      "source": [
        "print(\"\"\"Nama: Alzena Zaliyanti Zahro\n",
        "Kelas: X.10\n",
        "No absen: 02\"\"\")"
      ],
      "metadata": {
        "colab": {
          "base_uri": "https://localhost:8080/"
        },
        "id": "7ZXykTUc32XW",
        "outputId": "eef129e9-9013-439a-885a-f6c6293ce7ce"
      },
      "execution_count": null,
      "outputs": [
        {
          "output_type": "stream",
          "name": "stdout",
          "text": [
            "Nama: Alzena Zaliyanti Zahro\n",
            "Kelas: X.10\n",
            "No absen: 02\n"
          ]
        }
      ]
    },
    {
      "cell_type": "code",
      "source": [
        "nama_siswa_1=\"ridju\""
      ],
      "metadata": {
        "id": "SAzP2XmnEvRh"
      },
      "execution_count": null,
      "outputs": []
    },
    {
      "cell_type": "code",
      "source": [
        "nama_siswa_2=\"rafa\""
      ],
      "metadata": {
        "id": "XCHlZXVEH6mk"
      },
      "execution_count": null,
      "outputs": []
    },
    {
      "cell_type": "code",
      "source": [
        "print(nama_siswa_1)"
      ],
      "metadata": {
        "colab": {
          "base_uri": "https://localhost:8080/"
        },
        "id": "kPESETc7IAXd",
        "outputId": "0843e27f-0228-4c7c-dc7a-f16c185ba468"
      },
      "execution_count": null,
      "outputs": [
        {
          "output_type": "stream",
          "name": "stdout",
          "text": [
            "ridju\n"
          ]
        }
      ]
    },
    {
      "cell_type": "code",
      "source": [
        "print(nama_siswa_1,nama_siswa_2)"
      ],
      "metadata": {
        "colab": {
          "base_uri": "https://localhost:8080/"
        },
        "id": "07cRdHwSIJwO",
        "outputId": "c4f167da-c365-4404-996a-dba38a87b5a7"
      },
      "execution_count": null,
      "outputs": [
        {
          "output_type": "stream",
          "name": "stdout",
          "text": [
            "ridju rafa\n"
          ]
        }
      ]
    },
    {
      "cell_type": "code",
      "source": [
        "print(nama_siswa_1,nama_siswa_2,sep=\"-\")"
      ],
      "metadata": {
        "colab": {
          "base_uri": "https://localhost:8080/"
        },
        "id": "226voMdVIXhh",
        "outputId": "9c3f97e5-3b52-4ca0-c000-0c3b8646ab48"
      },
      "execution_count": null,
      "outputs": [
        {
          "output_type": "stream",
          "name": "stdout",
          "text": [
            "ridju-rafa\n"
          ]
        }
      ]
    },
    {
      "cell_type": "code",
      "source": [
        "print(nama_siswa_1,nama_siswa_2,nama_siswa_1,sep=\"*\")"
      ],
      "metadata": {
        "colab": {
          "base_uri": "https://localhost:8080/"
        },
        "id": "KV1K2SSxJMkC",
        "outputId": "2ab0f6be-4c5e-4bf4-a900-dffa15effa0c"
      },
      "execution_count": null,
      "outputs": [
        {
          "output_type": "stream",
          "name": "stdout",
          "text": [
            "ridju*rafa*ridju\n"
          ]
        }
      ]
    },
    {
      "cell_type": "code",
      "source": [
        "print(nama_siswa_1,end=\"*\")\n",
        "print(nama_siswa_2)"
      ],
      "metadata": {
        "colab": {
          "base_uri": "https://localhost:8080/"
        },
        "id": "0R_8JwWaLUIw",
        "outputId": "531cd3a4-429f-4116-e743-202f85ab9bca"
      },
      "execution_count": null,
      "outputs": [
        {
          "output_type": "stream",
          "name": "stdout",
          "text": [
            "ridju*rafa\n"
          ]
        }
      ]
    }
  ]
}