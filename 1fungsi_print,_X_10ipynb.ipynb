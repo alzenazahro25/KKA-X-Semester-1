{
  "nbformat": 4,
  "nbformat_minor": 0,
  "metadata": {
    "colab": {
      "provenance": [],
      "authorship_tag": "ABX9TyNam0o0PMzk6Y4j4YiGaKUM",
      "include_colab_link": true
    },
    "kernelspec": {
      "name": "python3",
      "display_name": "Python 3"
    },
    "language_info": {
      "name": "python"
    }
  },
  "cells": [
    {
      "cell_type": "markdown",
      "metadata": {
        "id": "view-in-github",
        "colab_type": "text"
      },
      "source": [
        "<a href=\"https://colab.research.google.com/github/alzenazahro25/KKA-X-Semester-1/blob/main/1fungsi_print%2C_X_10ipynb.ipynb\" target=\"_parent\"><img src=\"https://colab.research.google.com/assets/colab-badge.svg\" alt=\"Open In Colab\"/></a>"
      ]
    },
    {
      "cell_type": "markdown",
      "source": [
        "Menampilkan Teks Bebas"
      ],
      "metadata": {
        "id": "9m6BDkc2Ug3P"
      }
    },
    {
      "cell_type": "code",
      "source": [
        "print (\"hello world\")"
      ],
      "metadata": {
        "colab": {
          "base_uri": "https://localhost:8080/"
        },
        "id": "4MqbVs3MQOje",
        "outputId": "8c159d49-f0ec-4113-ebfe-f9eaa0030f24"
      },
      "execution_count": null,
      "outputs": [
        {
          "output_type": "stream",
          "name": "stdout",
          "text": [
            "hello world\n"
          ]
        }
      ]
    },
    {
      "cell_type": "code",
      "source": [
        "print (\"alzena zaliyanti zahro\")"
      ],
      "metadata": {
        "colab": {
          "base_uri": "https://localhost:8080/"
        },
        "id": "psWE73JdLciO",
        "outputId": "3f5ace9e-16bb-4bd9-803f-cef31d3a50da"
      },
      "execution_count": null,
      "outputs": [
        {
          "output_type": "stream",
          "name": "stdout",
          "text": [
            "alzena zaliyanti zahro\n"
          ]
        }
      ]
    },
    {
      "cell_type": "markdown",
      "source": [
        "Menampilkan Nilai Variabel"
      ],
      "metadata": {
        "id": "47Knh2PqUpTf"
      }
    },
    {
      "cell_type": "code",
      "source": [
        "usia = 16\n",
        "print (usia)"
      ],
      "metadata": {
        "colab": {
          "base_uri": "https://localhost:8080/"
        },
        "id": "cXJHx3FSNNYv",
        "outputId": "0a7f316b-d17a-4740-8b70-716da8153bff"
      },
      "execution_count": null,
      "outputs": [
        {
          "output_type": "stream",
          "name": "stdout",
          "text": [
            "16\n"
          ]
        }
      ]
    },
    {
      "cell_type": "code",
      "execution_count": null,
      "metadata": {
        "colab": {
          "base_uri": "https://localhost:8080/"
        },
        "id": "wU4ac4Cl0YIR",
        "outputId": "f2539997-802f-47f3-80a4-ede991f69217"
      },
      "outputs": [
        {
          "output_type": "stream",
          "name": "stdout",
          "text": [
            "namaSaudara:davina Karamoy\n"
          ]
        }
      ],
      "source": [
        "namaSaudara = \"davina Karamoy\"\n",
        "print (\"namaSaudara:\" + namaSaudara)"
      ]
    },
    {
      "cell_type": "code",
      "source": [
        "print (\"mataPelajaranFavorit=KIMIA\")"
      ],
      "metadata": {
        "colab": {
          "base_uri": "https://localhost:8080/"
        },
        "id": "A6ownLovQ2eN",
        "outputId": "ca86dc2c-e648-4991-f51e-804c6b5e3db1"
      },
      "execution_count": null,
      "outputs": [
        {
          "output_type": "stream",
          "name": "stdout",
          "text": [
            "mataPelajaranFavorit=KIMIA\n"
          ]
        }
      ]
    },
    {
      "cell_type": "code",
      "source": [
        "print(\"Mata pelajaran favorit:\" + mataPelajaranFavorit)"
      ],
      "metadata": {
        "colab": {
          "base_uri": "https://localhost:8080/",
          "height": 193
        },
        "id": "FNKsKbahRf25",
        "outputId": "7d51d848-132a-475c-e3a9-eb7a1d6f5c9b"
      },
      "execution_count": 22,
      "outputs": [
        {
          "output_type": "error",
          "ename": "NameError",
          "evalue": "name 'mataPelajaranFavorit' is not defined",
          "traceback": [
            "\u001b[0;31m---------------------------------------------------------------------------\u001b[0m",
            "\u001b[0;31mNameError\u001b[0m                                 Traceback (most recent call last)",
            "\u001b[0;32m/tmp/ipython-input-1913854189.py\u001b[0m in \u001b[0;36m<cell line: 0>\u001b[0;34m()\u001b[0m\n\u001b[0;32m----> 1\u001b[0;31m \u001b[0mprint\u001b[0m\u001b[0;34m(\u001b[0m\u001b[0;34m\"Mata pelajaran favorit:\"\u001b[0m \u001b[0;34m+\u001b[0m \u001b[0mmataPelajaranFavorit\u001b[0m\u001b[0;34m)\u001b[0m\u001b[0;34m\u001b[0m\u001b[0;34m\u001b[0m\u001b[0m\n\u001b[0m",
            "\u001b[0;31mNameError\u001b[0m: name 'mataPelajaranFavorit' is not defined"
          ]
        }
      ]
    },
    {
      "cell_type": "markdown",
      "source": [
        "Menampilkan Teks Bebas dan Nilai Variabel"
      ],
      "metadata": {
        "id": "oJVvLMqFUwy7"
      }
    },
    {
      "cell_type": "code",
      "source": [
        "nama_panggilan_siswa = \"jenay\"\n",
        "print(\"nama panggilan siswa tersebut adalah\", nama_panggilan_siswa) #sudah ada spasinya"
      ],
      "metadata": {
        "colab": {
          "base_uri": "https://localhost:8080/"
        },
        "id": "D97zZPC80_K8",
        "outputId": "e509065f-9850-4489-9685-014b2ebbed74"
      },
      "execution_count": null,
      "outputs": [
        {
          "output_type": "stream",
          "name": "stdout",
          "text": [
            "nama panggilan siswa tersebut adalah jenay\n"
          ]
        }
      ]
    },
    {
      "cell_type": "markdown",
      "source": [
        "Escape Character"
      ],
      "metadata": {
        "id": "yq5ACmQzU8en"
      }
    },
    {
      "cell_type": "code",
      "source": [
        "print(f\"nama panggilan siswa tersebut adalah {nama_panggilan_siswa} loh!\")"
      ],
      "metadata": {
        "colab": {
          "base_uri": "https://localhost:8080/"
        },
        "id": "S0iCAYll1jDs",
        "outputId": "471e18b9-10c0-46a5-f9d6-93bf8950585a"
      },
      "execution_count": null,
      "outputs": [
        {
          "output_type": "stream",
          "name": "stdout",
          "text": [
            "nama panggilan siswa tersebut adalah jenay loh!\n"
          ]
        }
      ]
    },
    {
      "cell_type": "code",
      "source": [
        "print(\"Nama\\t\\t: Alzena Zaliyanti Zahro\\nKelas\\t\\t: X.10\\nNo absen\\t: 02\")"
      ],
      "metadata": {
        "colab": {
          "base_uri": "https://localhost:8080/"
        },
        "id": "gTSoForR305x",
        "outputId": "ce87ab78-8370-4afa-86f6-00cf417fc7e1"
      },
      "execution_count": null,
      "outputs": [
        {
          "output_type": "stream",
          "name": "stdout",
          "text": [
            "Nama\t\t: Alzena Zaliyanti Zahro\n",
            "Kelas\t\t: X.10\n",
            "No absen\t: 02\n"
          ]
        }
      ]
    },
    {
      "cell_type": "code",
      "source": [
        "print(\"Nama: Alzena Zaliyanti Zahro\")\n",
        "print(\"kelas: X.10\")\n",
        "print (\"No Absen: 02\")"
      ],
      "metadata": {
        "colab": {
          "base_uri": "https://localhost:8080/"
        },
        "id": "aTrByfma13GU",
        "outputId": "bf04d6ed-6c28-4b81-bbac-f665a4472eba"
      },
      "execution_count": null,
      "outputs": [
        {
          "output_type": "stream",
          "name": "stdout",
          "text": [
            "Nama: Alzena Zaliyanti Zahro\n",
            "kelas: X.10\n",
            "No Absen: 02\n"
          ]
        }
      ]
    },
    {
      "cell_type": "code",
      "source": [
        "print(\"\"\"Nama: Alzena Zaliyanti Zahro\n",
        "Kelas: X.10\n",
        "No absen: 02\"\"\")"
      ],
      "metadata": {
        "colab": {
          "base_uri": "https://localhost:8080/"
        },
        "id": "7ZXykTUc32XW",
        "outputId": "eef129e9-9013-439a-885a-f6c6293ce7ce"
      },
      "execution_count": null,
      "outputs": [
        {
          "output_type": "stream",
          "name": "stdout",
          "text": [
            "Nama: Alzena Zaliyanti Zahro\n",
            "Kelas: X.10\n",
            "No absen: 02\n"
          ]
        }
      ]
    },
    {
      "cell_type": "code",
      "source": [
        "print('Ainun')"
      ],
      "metadata": {
        "colab": {
          "base_uri": "https://localhost:8080/"
        },
        "id": "lRUivMGPN5cU",
        "outputId": "50687f25-77a3-43f6-9cc2-2db0cd63e824"
      },
      "execution_count": null,
      "outputs": [
        {
          "output_type": "stream",
          "name": "stdout",
          "text": [
            "Ainun\n"
          ]
        }
      ]
    },
    {
      "cell_type": "code",
      "source": [
        "print (\"Bu Shinta berkata,\\\"Makan sosis so nice\\\"\")"
      ],
      "metadata": {
        "colab": {
          "base_uri": "https://localhost:8080/"
        },
        "id": "Q98tlKvlOLk3",
        "outputId": "45e105ca-4269-4ca9-f2b0-bcef6c8bbed4"
      },
      "execution_count": null,
      "outputs": [
        {
          "output_type": "stream",
          "name": "stdout",
          "text": [
            "Bu Shinta berkata,\"Makan sosis so nice\"\n"
          ]
        }
      ]
    },
    {
      "cell_type": "code",
      "source": [
        "print ('Bu Shinta berkata,\"Makan sosis so nice.\"')"
      ],
      "metadata": {
        "colab": {
          "base_uri": "https://localhost:8080/"
        },
        "id": "LOwYXVn2OtFZ",
        "outputId": "13e3d018-2d5c-4f32-a5bf-7564ff56574c"
      },
      "execution_count": null,
      "outputs": [
        {
          "output_type": "stream",
          "name": "stdout",
          "text": [
            "Bu Shinta berkata,\"Makan sosis so nice.\"\n"
          ]
        }
      ]
    },
    {
      "cell_type": "markdown",
      "source": [
        "Parameter Fungsi print"
      ],
      "metadata": {
        "id": "2Pj_75E6VFP-"
      }
    },
    {
      "cell_type": "code",
      "source": [
        "print (\"Simpan file di Local Diks D:\\\\MAN DEMAK\\\\KKA\")"
      ],
      "metadata": {
        "colab": {
          "base_uri": "https://localhost:8080/"
        },
        "id": "o_I1UR_HPVYl",
        "outputId": "65008819-4779-429b-a2fe-8cad0da2f208"
      },
      "execution_count": null,
      "outputs": [
        {
          "output_type": "stream",
          "name": "stdout",
          "text": [
            "Simpan file di Local Diks D:\\MAN DEMAK\\KKA\n"
          ]
        }
      ]
    },
    {
      "cell_type": "code",
      "source": [
        "print(\"A'inun\")"
      ],
      "metadata": {
        "colab": {
          "base_uri": "https://localhost:8080/"
        },
        "id": "EsYqckr2OFLb",
        "outputId": "2d2d49ac-b206-4fff-dece-aa3f0fcd1f4b"
      },
      "execution_count": null,
      "outputs": [
        {
          "output_type": "stream",
          "name": "stdout",
          "text": [
            "A'inun\n"
          ]
        }
      ]
    },
    {
      "cell_type": "code",
      "source": [
        "nama_siswa_1=\"ridju\""
      ],
      "metadata": {
        "id": "SAzP2XmnEvRh"
      },
      "execution_count": null,
      "outputs": []
    },
    {
      "cell_type": "code",
      "source": [
        "nama_siswa_2=\"rafa\""
      ],
      "metadata": {
        "id": "XCHlZXVEH6mk"
      },
      "execution_count": null,
      "outputs": []
    },
    {
      "cell_type": "code",
      "source": [
        "print(nama_siswa_1)"
      ],
      "metadata": {
        "colab": {
          "base_uri": "https://localhost:8080/"
        },
        "id": "kPESETc7IAXd",
        "outputId": "0843e27f-0228-4c7c-dc7a-f16c185ba468"
      },
      "execution_count": null,
      "outputs": [
        {
          "output_type": "stream",
          "name": "stdout",
          "text": [
            "ridju\n"
          ]
        }
      ]
    },
    {
      "cell_type": "code",
      "source": [
        "print(nama_siswa_1,nama_siswa_2)"
      ],
      "metadata": {
        "colab": {
          "base_uri": "https://localhost:8080/"
        },
        "id": "07cRdHwSIJwO",
        "outputId": "c4f167da-c365-4404-996a-dba38a87b5a7"
      },
      "execution_count": null,
      "outputs": [
        {
          "output_type": "stream",
          "name": "stdout",
          "text": [
            "ridju rafa\n"
          ]
        }
      ]
    },
    {
      "cell_type": "code",
      "source": [
        "print(nama_siswa_1,nama_siswa_2,sep=\"-\")"
      ],
      "metadata": {
        "colab": {
          "base_uri": "https://localhost:8080/"
        },
        "id": "226voMdVIXhh",
        "outputId": "9c3f97e5-3b52-4ca0-c000-0c3b8646ab48"
      },
      "execution_count": null,
      "outputs": [
        {
          "output_type": "stream",
          "name": "stdout",
          "text": [
            "ridju-rafa\n"
          ]
        }
      ]
    },
    {
      "cell_type": "code",
      "source": [
        "print(nama_siswa_1,nama_siswa_2,nama_siswa_1,sep=\"*\")"
      ],
      "metadata": {
        "colab": {
          "base_uri": "https://localhost:8080/"
        },
        "id": "KV1K2SSxJMkC",
        "outputId": "2ab0f6be-4c5e-4bf4-a900-dffa15effa0c"
      },
      "execution_count": null,
      "outputs": [
        {
          "output_type": "stream",
          "name": "stdout",
          "text": [
            "ridju*rafa*ridju\n"
          ]
        }
      ]
    },
    {
      "cell_type": "code",
      "source": [
        "print(nama_siswa_1,end=\"*\")\n",
        "print(nama_siswa_2)"
      ],
      "metadata": {
        "colab": {
          "base_uri": "https://localhost:8080/"
        },
        "id": "0R_8JwWaLUIw",
        "outputId": "531cd3a4-429f-4116-e743-202f85ab9bca"
      },
      "execution_count": null,
      "outputs": [
        {
          "output_type": "stream",
          "name": "stdout",
          "text": [
            "ridju*rafa\n"
          ]
        }
      ]
    }
  ]
}